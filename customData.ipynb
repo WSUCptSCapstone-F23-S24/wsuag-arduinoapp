{
 "cells": [
  {
   "cell_type": "code",
   "execution_count": 1,
   "metadata": {},
   "outputs": [
    {
     "name": "stdout",
     "output_type": "stream",
     "text": [
      "Thu Feb  1 15:10:02 2024       \n",
      "+---------------------------------------------------------------------------------------+\n",
      "| NVIDIA-SMI 546.29                 Driver Version: 546.29       CUDA Version: 12.3     |\n",
      "|-----------------------------------------+----------------------+----------------------+\n",
      "| GPU  Name                     TCC/WDDM  | Bus-Id        Disp.A | Volatile Uncorr. ECC |\n",
      "| Fan  Temp   Perf          Pwr:Usage/Cap |         Memory-Usage | GPU-Util  Compute M. |\n",
      "|                                         |                      |               MIG M. |\n",
      "|=========================================+======================+======================|\n",
      "|   0  NVIDIA GeForce RTX 2060 ...  WDDM  | 00000000:26:00.0  On |                  N/A |\n",
      "| 30%   42C    P8              12W / 184W |   6423MiB /  8192MiB |     23%      Default |\n",
      "|                                         |                      |                  N/A |\n",
      "+-----------------------------------------+----------------------+----------------------+\n",
      "                                                                                         \n",
      "+---------------------------------------------------------------------------------------+\n",
      "| Processes:                                                                            |\n",
      "|  GPU   GI   CI        PID   Type   Process name                            GPU Memory |\n",
      "|        ID   ID                                                             Usage      |\n",
      "|=======================================================================================|\n",
      "|    0   N/A  N/A      8984    C+G   ...\\cef\\cef.win7x64\\steamwebhelper.exe    N/A      |\n",
      "|    0   N/A  N/A     13964    C+G   ...on\\wallpaper_engine\\wallpaper32.exe    N/A      |\n",
      "|    0   N/A  N/A     16400    C+G   ....Search_cw5n1h2txyewy\\SearchApp.exe    N/A      |\n",
      "|    0   N/A  N/A     19980    C+G   ....0_x64__8wekyb3d8bbwe\\YourPhone.exe    N/A      |\n",
      "|    0   N/A  N/A     21468    C+G   ...siveControlPanel\\SystemSettings.exe    N/A      |\n",
      "|    0   N/A  N/A     24032    C+G   ...7yawvg6ne\\EarTrumpet\\EarTrumpet.exe    N/A      |\n",
      "|    0   N/A  N/A     24480    C+G   ...GeForce Experience\\NVIDIA Share.exe    N/A      |\n",
      "|    0   N/A  N/A     25140    C+G   ...a\\Local\\Programs\\Opera GX\\opera.exe    N/A      |\n",
      "|    0   N/A  N/A     27064    C+G   ...ft Office\\root\\Office16\\WINWORD.EXE    N/A      |\n",
      "|    0   N/A  N/A     29968    C+G   ...ces\\Razer Central\\Razer Central.exe    N/A      |\n",
      "|    0   N/A  N/A     31116    C+G   ...AppData\\Roaming\\Spotify\\Spotify.exe    N/A      |\n",
      "|    0   N/A  N/A     33456    C+G   ...t.LockApp_cw5n1h2txyewy\\LockApp.exe    N/A      |\n",
      "|    0   N/A  N/A     33772    C+G   ...0_x64__8wekyb3d8bbwe\\Calculator.exe    N/A      |\n",
      "|    0   N/A  N/A     36868    C+G   ...CBS_cw5n1h2txyewy\\TextInputHost.exe    N/A      |\n",
      "|    0   N/A  N/A     38316    C+G   ..._8wekyb3d8bbwe\\Microsoft.Photos.exe    N/A      |\n",
      "|    0   N/A  N/A     39476    C+G   ....Search_cw5n1h2txyewy\\SearchApp.exe    N/A      |\n",
      "|    0   N/A  N/A     40232    C+G   ...Programs\\Microsoft VS Code\\Code.exe    N/A      |\n",
      "|    0   N/A  N/A     40396    C+G   ...5n1h2txyewy\\ShellExperienceHost.exe    N/A      |\n",
      "|    0   N/A  N/A     42480    C+G   ...2txyewy\\StartMenuExperienceHost.exe    N/A      |\n",
      "|    0   N/A  N/A     43316    C+G   ...al\\Discord\\app-1.0.9031\\Discord.exe    N/A      |\n",
      "|    0   N/A  N/A     44700    C+G   ...GeForce Experience\\NVIDIA Share.exe    N/A      |\n",
      "|    0   N/A  N/A     44884    C+G   ...Programs\\Microsoft VS Code\\Code.exe    N/A      |\n",
      "|    0   N/A  N/A     45972    C+G   C:\\Windows\\explorer.exe                   N/A      |\n",
      "|    0   N/A  N/A     46744    C+G   ...al\\Discord\\app-1.0.9031\\Discord.exe    N/A      |\n",
      "|    0   N/A  N/A     47344    C+G   ...oogle\\Chrome\\Application\\chrome.exe    N/A      |\n",
      "+---------------------------------------------------------------------------------------+\n"
     ]
    }
   ],
   "source": [
    "!nvidia-smi"
   ]
  },
  {
   "cell_type": "code",
   "execution_count": 2,
   "metadata": {},
   "outputs": [
    {
     "name": "stdout",
     "output_type": "stream",
     "text": [
      "d:\\condaEnv\n"
     ]
    }
   ],
   "source": [
    "import os\n",
    "t= os.getcwd()\n",
    "print(t)"
   ]
  },
  {
   "cell_type": "code",
   "execution_count": 58,
   "metadata": {},
   "outputs": [
    {
     "name": "stdout",
     "output_type": "stream",
     "text": [
      "d:\\condaEnv\\datasets\n"
     ]
    },
    {
     "name": "stderr",
     "output_type": "stream",
     "text": [
      "The syntax of the command is incorrect.\n"
     ]
    },
    {
     "name": "stdout",
     "output_type": "stream",
     "text": [
      "Requirement already satisfied: roboflow in c:\\users\\shrey\\anaconda3\\envs\\yolov8_segmentation\\lib\\site-packages (1.1.19)\n",
      "Requirement already satisfied: certifi==2023.7.22 in c:\\users\\shrey\\anaconda3\\envs\\yolov8_segmentation\\lib\\site-packages (from roboflow) (2023.7.22)\n",
      "Requirement already satisfied: chardet==4.0.0 in c:\\users\\shrey\\anaconda3\\envs\\yolov8_segmentation\\lib\\site-packages (from roboflow) (4.0.0)\n",
      "Requirement already satisfied: cycler==0.10.0 in c:\\users\\shrey\\anaconda3\\envs\\yolov8_segmentation\\lib\\site-packages (from roboflow) (0.10.0)\n",
      "Requirement already satisfied: idna==2.10 in c:\\users\\shrey\\anaconda3\\envs\\yolov8_segmentation\\lib\\site-packages (from roboflow) (2.10)\n",
      "Requirement already satisfied: kiwisolver>=1.3.1 in c:\\users\\shrey\\anaconda3\\envs\\yolov8_segmentation\\lib\\site-packages (from roboflow) (1.4.5)\n",
      "Requirement already satisfied: matplotlib in c:\\users\\shrey\\anaconda3\\envs\\yolov8_segmentation\\lib\\site-packages (from roboflow) (3.8.2)\n",
      "Requirement already satisfied: numpy>=1.18.5 in c:\\users\\shrey\\anaconda3\\envs\\yolov8_segmentation\\lib\\site-packages (from roboflow) (1.26.3)\n",
      "Requirement already satisfied: opencv-python-headless==4.8.0.74 in c:\\users\\shrey\\anaconda3\\envs\\yolov8_segmentation\\lib\\site-packages (from roboflow) (4.8.0.74)\n",
      "Requirement already satisfied: Pillow>=7.1.2 in c:\\users\\shrey\\anaconda3\\envs\\yolov8_segmentation\\lib\\site-packages (from roboflow) (10.0.1)\n",
      "Requirement already satisfied: python-dateutil in c:\\users\\shrey\\anaconda3\\envs\\yolov8_segmentation\\lib\\site-packages (from roboflow) (2.8.2)\n",
      "Requirement already satisfied: python-dotenv in c:\\users\\shrey\\anaconda3\\envs\\yolov8_segmentation\\lib\\site-packages (from roboflow) (1.0.1)\n",
      "Requirement already satisfied: requests in c:\\users\\shrey\\anaconda3\\envs\\yolov8_segmentation\\lib\\site-packages (from roboflow) (2.31.0)\n",
      "Requirement already satisfied: six in c:\\users\\shrey\\anaconda3\\envs\\yolov8_segmentation\\lib\\site-packages (from roboflow) (1.16.0)\n",
      "Requirement already satisfied: supervision in c:\\users\\shrey\\anaconda3\\envs\\yolov8_segmentation\\lib\\site-packages (from roboflow) (0.18.0)\n",
      "Requirement already satisfied: urllib3>=1.26.6 in c:\\users\\shrey\\anaconda3\\envs\\yolov8_segmentation\\lib\\site-packages (from roboflow) (2.1.0)\n",
      "Requirement already satisfied: tqdm>=4.41.0 in c:\\users\\shrey\\anaconda3\\envs\\yolov8_segmentation\\lib\\site-packages (from roboflow) (4.66.1)\n",
      "Requirement already satisfied: PyYAML>=5.3.1 in c:\\users\\shrey\\anaconda3\\envs\\yolov8_segmentation\\lib\\site-packages (from roboflow) (6.0.1)\n",
      "Requirement already satisfied: requests-toolbelt in c:\\users\\shrey\\anaconda3\\envs\\yolov8_segmentation\\lib\\site-packages (from roboflow) (1.0.0)\n",
      "Requirement already satisfied: python-magic in c:\\users\\shrey\\anaconda3\\envs\\yolov8_segmentation\\lib\\site-packages (from roboflow) (0.4.27)\n",
      "Requirement already satisfied: colorama in c:\\users\\shrey\\anaconda3\\envs\\yolov8_segmentation\\lib\\site-packages (from tqdm>=4.41.0->roboflow) (0.4.6)\n",
      "Requirement already satisfied: contourpy>=1.0.1 in c:\\users\\shrey\\anaconda3\\envs\\yolov8_segmentation\\lib\\site-packages (from matplotlib->roboflow) (1.2.0)\n",
      "Requirement already satisfied: fonttools>=4.22.0 in c:\\users\\shrey\\anaconda3\\envs\\yolov8_segmentation\\lib\\site-packages (from matplotlib->roboflow) (4.47.2)\n",
      "Requirement already satisfied: packaging>=20.0 in c:\\users\\shrey\\anaconda3\\envs\\yolov8_segmentation\\lib\\site-packages (from matplotlib->roboflow) (23.2)\n",
      "Requirement already satisfied: pyparsing>=2.3.1 in c:\\users\\shrey\\anaconda3\\envs\\yolov8_segmentation\\lib\\site-packages (from matplotlib->roboflow) (3.1.1)\n",
      "Requirement already satisfied: charset-normalizer<4,>=2 in c:\\users\\shrey\\anaconda3\\envs\\yolov8_segmentation\\lib\\site-packages (from requests->roboflow) (3.3.2)\n",
      "Requirement already satisfied: defusedxml<0.8.0,>=0.7.1 in c:\\users\\shrey\\anaconda3\\envs\\yolov8_segmentation\\lib\\site-packages (from supervision->roboflow) (0.7.1)\n",
      "Requirement already satisfied: scipy<2.0.0,>=1.10.0 in c:\\users\\shrey\\anaconda3\\envs\\yolov8_segmentation\\lib\\site-packages (from supervision->roboflow) (1.12.0)\n",
      "Note: you may need to restart the kernel to use updated packages.\n",
      "loading Roboflow workspace...\n",
      "loading Roboflow project...\n"
     ]
    },
    {
     "name": "stderr",
     "output_type": "stream",
     "text": [
      "Downloading Dataset Version Zip in fields-1 to yolov5-obb:: 100%|██████████| 25508/25508 [00:06<00:00, 4141.96it/s]"
     ]
    },
    {
     "name": "stdout",
     "output_type": "stream",
     "text": [
      "\n"
     ]
    },
    {
     "name": "stderr",
     "output_type": "stream",
     "text": [
      "\n",
      "Extracting Dataset Version Zip to fields-1 in yolov5-obb:: 100%|██████████| 788/788 [00:00<00:00, 1988.09it/s]\n"
     ]
    }
   ],
   "source": [
    "!mkdir {t}/datasets\n",
    "%cd {t}/datasets\n",
    "\n",
    "%pip install roboflow\n",
    "\n",
    "from roboflow import Roboflow\n",
    "rf = Roboflow(api_key=\"sfkSxrMX0lH8qDr0BQ20\")\n",
    "project = rf.workspace(\"shreyas-zmpfq\").project(\"fields-eu0wq\")\n",
    "dataset = project.version(1).download(\"yolov5-obb\")"
   ]
  },
  {
   "cell_type": "code",
   "execution_count": 39,
   "metadata": {},
   "outputs": [
    {
     "name": "stdout",
     "output_type": "stream",
     "text": [
      "d:\\condaEnv\\fields-1\n"
     ]
    }
   ],
   "source": [
    "print(dataset.location)"
   ]
  },
  {
   "cell_type": "code",
   "execution_count": 59,
   "metadata": {},
   "outputs": [],
   "source": [
    "import os\n",
    "\n",
    "# Define the classes and their corresponding indices\n",
    "class_names = ['box']\n",
    "class_indices = {name: index for index, name in enumerate(class_names)}\n",
    "\n",
    "\n",
    "# Image dimensions\n",
    "img_width, img_height = 640, 640\n",
    "\n",
    "# Path to the folder containing the annotation files\n",
    "folder_path = 'D:/condaEnv/train/labels'\n",
    "\n",
    "# Function to normalize coordinates\n",
    "def normalize_coordinates(coord, max_value):\n",
    "    return float(coord) / max_value\n",
    "\n",
    "# Process each file in the folder\n",
    "for filename in os.listdir(folder_path):\n",
    "    if filename.endswith(\".txt\"):  # assuming the annotation files are .txt files\n",
    "        file_path = os.path.join(folder_path, filename)\n",
    "        with open(file_path, 'r') as file:\n",
    "            lines = file.readlines()\n",
    "\n",
    "\n",
    "        new_lines = []\n",
    "        for line in lines:\n",
    "            parts = line.strip().split(' ')\n",
    "            if len(parts) == 10:\n",
    "                # Extract label and coordinates\n",
    "                label = parts[-2]\n",
    "                coords = parts[:8]\n",
    "\n",
    "                # Get the class index\n",
    "                class_index = class_indices.get(label, -1)\n",
    "                if class_index != -1:\n",
    "                    # Normalize coordinates\n",
    "                    normalized_coords = [normalize_coordinates(coords[i], img_width if i % 2 == 0 else img_height) for i in range(8)]\n",
    "\n",
    "                    # Convert to the desired format and add to new lines\n",
    "                    new_line = f\"{class_index} \" + \" \".join(map(str, normalized_coords))\n",
    "                    new_lines.append(new_line)\n",
    "\n",
    "        # Write the converted lines to a new file or overwrite the existing file\n",
    "        with open(file_path, 'w') as file:\n",
    "            file.write('\\n'.join(new_lines))"
   ]
  },
  {
   "cell_type": "code",
   "execution_count": 53,
   "metadata": {},
   "outputs": [
    {
     "name": "stdout",
     "output_type": "stream",
     "text": [
      "d:\\condaEnv\n",
      "Downloading https://github.com/ultralytics/assets/releases/download/v8.1.0/yolov8s-obb.pt to 'yolov8s-obb.pt'...\n",
      "New https://pypi.org/project/ultralytics/8.1.9 available 😃 Update with 'pip install -U ultralytics'\n",
      "Ultralytics YOLOv8.1.7 🚀 Python-3.9.12 torch-2.1.2+cpu CPU (AMD Ryzen 5 3600X 6-Core Processor)\n",
      "\u001b[34m\u001b[1mengine\\trainer: \u001b[0mtask=obb, mode=train, model=yolov8s-obb.pt, data=D:/condaEnv/datasets/fields-1/data.yaml, epochs=100, time=None, patience=50, batch=8, imgsz=640, save=True, save_period=-1, cache=False, device=None, workers=8, project=None, name=train19, exist_ok=False, pretrained=True, optimizer=auto, verbose=True, seed=0, deterministic=True, single_cls=False, rect=False, cos_lr=False, close_mosaic=10, resume=False, amp=True, fraction=1.0, profile=False, freeze=None, multi_scale=False, overlap_mask=True, mask_ratio=4, dropout=0.0, val=True, split=val, save_json=False, save_hybrid=False, conf=None, iou=0.7, max_det=300, half=False, dnn=False, plots=True, source=None, vid_stride=1, stream_buffer=False, visualize=False, augment=False, agnostic_nms=False, classes=None, retina_masks=False, embed=None, show=False, save_frames=False, save_txt=False, save_conf=False, save_crop=False, show_labels=True, show_conf=True, show_boxes=True, line_width=None, format=torchscript, keras=False, optimize=False, int8=False, dynamic=False, simplify=False, opset=None, workspace=4, nms=False, lr0=0.01, lrf=0.01, momentum=0.937, weight_decay=0.0005, warmup_epochs=3.0, warmup_momentum=0.8, warmup_bias_lr=0.1, box=7.5, cls=0.5, dfl=1.5, pose=12.0, kobj=1.0, label_smoothing=0.0, nbs=64, hsv_h=0.015, hsv_s=0.7, hsv_v=0.4, degrees=0.0, translate=0.1, scale=0.5, shear=0.0, perspective=0.0, flipud=0.0, fliplr=0.5, mosaic=1.0, mixup=0.0, copy_paste=0.0, auto_augment=randaugment, erasing=0.4, crop_fraction=1.0, cfg=None, tracker=botsort.yaml, save_dir=runs\\obb\\train19\n"
     ]
    },
    {
     "name": "stderr",
     "output_type": "stream",
     "text": [
      "\n",
      "  0%|          | 0.00/22.2M [00:00<?, ?B/s]\n",
      "  0%|          | 64.0k/22.2M [00:00<00:41, 564kB/s]\n",
      "  1%|          | 208k/22.2M [00:00<00:22, 1.04MB/s]\n",
      "  2%|▏         | 448k/22.2M [00:00<00:13, 1.65MB/s]\n",
      "  4%|▎         | 800k/22.2M [00:00<00:09, 2.37MB/s]\n",
      "  5%|▍         | 1.02M/22.2M [00:00<00:12, 1.75MB/s]\n",
      "  6%|▌         | 1.25M/22.2M [00:00<00:11, 1.90MB/s]\n",
      "  7%|▋         | 1.59M/22.2M [00:00<00:12, 1.77MB/s]\n",
      " 10%|█         | 2.23M/22.2M [00:01<00:07, 2.88MB/s]\n",
      " 12%|█▏        | 2.69M/22.2M [00:01<00:06, 3.33MB/s]\n",
      " 14%|█▍        | 3.16M/22.2M [00:01<00:05, 3.70MB/s]\n",
      " 16%|█▋        | 3.64M/22.2M [00:01<00:04, 4.01MB/s]\n",
      " 19%|█▊        | 4.16M/22.2M [00:01<00:04, 4.22MB/s]\n",
      " 21%|██        | 4.64M/22.2M [00:01<00:04, 4.45MB/s]\n",
      " 23%|██▎       | 5.09M/22.2M [00:01<00:04, 4.36MB/s]\n",
      " 25%|██▍       | 5.52M/22.2M [00:01<00:04, 4.26MB/s]\n",
      " 28%|██▊       | 6.16M/22.2M [00:01<00:03, 4.90MB/s]\n",
      " 30%|███       | 6.70M/22.2M [00:02<00:03, 5.12MB/s]\n",
      " 33%|███▎      | 7.22M/22.2M [00:02<00:03, 5.16MB/s]\n",
      " 35%|███▍      | 7.72M/22.2M [00:02<00:03, 4.50MB/s]\n",
      " 37%|███▋      | 8.17M/22.2M [00:02<00:03, 4.33MB/s]\n",
      " 39%|███▉      | 8.64M/22.2M [00:02<00:03, 4.42MB/s]\n",
      " 41%|████      | 9.08M/22.2M [00:02<00:03, 4.33MB/s]\n",
      " 43%|████▎     | 9.53M/22.2M [00:02<00:03, 4.36MB/s]\n",
      " 45%|████▍     | 9.97M/22.2M [00:02<00:02, 4.41MB/s]\n",
      " 47%|████▋     | 10.4M/22.2M [00:02<00:02, 4.24MB/s]\n",
      " 49%|████▉     | 10.8M/22.2M [00:03<00:02, 4.14MB/s]\n",
      " 52%|█████▏    | 11.4M/22.2M [00:03<00:02, 4.79MB/s]\n",
      " 54%|█████▎    | 11.9M/22.2M [00:03<00:02, 4.82MB/s]\n",
      " 56%|█████▌    | 12.4M/22.2M [00:03<00:02, 4.94MB/s]\n",
      " 58%|█████▊    | 12.9M/22.2M [00:03<00:02, 4.76MB/s]\n",
      " 60%|██████    | 13.3M/22.2M [00:03<00:01, 4.73MB/s]\n",
      " 62%|██████▏   | 13.8M/22.2M [00:03<00:02, 4.21MB/s]\n",
      " 64%|██████▍   | 14.2M/22.2M [00:03<00:02, 3.84MB/s]\n",
      " 66%|██████▌   | 14.6M/22.2M [00:04<00:03, 2.58MB/s]\n",
      " 67%|██████▋   | 15.0M/22.2M [00:04<00:02, 2.74MB/s]\n",
      " 69%|██████▉   | 15.3M/22.2M [00:04<00:03, 2.05MB/s]\n",
      " 70%|██████▉   | 15.5M/22.2M [00:04<00:05, 1.38MB/s]\n",
      " 71%|███████   | 15.7M/22.2M [00:05<00:04, 1.46MB/s]\n",
      " 72%|███████▏  | 16.0M/22.2M [00:05<00:03, 1.71MB/s]\n",
      " 73%|███████▎  | 16.3M/22.2M [00:05<00:03, 1.94MB/s]\n",
      " 75%|███████▍  | 16.5M/22.2M [00:05<00:02, 2.09MB/s]\n",
      " 76%|███████▌  | 16.8M/22.2M [00:05<00:03, 1.88MB/s]\n",
      " 77%|███████▋  | 17.1M/22.2M [00:05<00:02, 2.11MB/s]\n",
      " 78%|███████▊  | 17.3M/22.2M [00:05<00:02, 1.87MB/s]\n",
      " 79%|███████▉  | 17.5M/22.2M [00:05<00:02, 1.98MB/s]\n",
      " 81%|████████  | 17.9M/22.2M [00:06<00:01, 2.37MB/s]\n",
      " 82%|████████▏ | 18.1M/22.2M [00:06<00:01, 2.24MB/s]\n",
      " 83%|████████▎ | 18.4M/22.2M [00:06<00:01, 2.21MB/s]\n",
      " 84%|████████▍ | 18.6M/22.2M [00:06<00:01, 2.30MB/s]\n",
      " 85%|████████▌ | 18.9M/22.2M [00:06<00:01, 2.19MB/s]\n",
      " 86%|████████▌ | 19.1M/22.2M [00:06<00:01, 2.07MB/s]\n",
      " 87%|████████▋ | 19.3M/22.2M [00:06<00:01, 2.20MB/s]\n",
      " 88%|████████▊ | 19.6M/22.2M [00:06<00:01, 1.82MB/s]\n",
      " 89%|████████▉ | 19.8M/22.2M [00:07<00:01, 1.59MB/s]\n",
      " 91%|█████████ | 20.1M/22.2M [00:07<00:00, 2.14MB/s]\n",
      " 92%|█████████▏| 20.5M/22.2M [00:07<00:00, 2.54MB/s]\n",
      " 94%|█████████▍| 20.9M/22.2M [00:07<00:00, 2.88MB/s]\n",
      " 96%|█████████▌| 21.2M/22.2M [00:07<00:00, 3.12MB/s]\n",
      " 97%|█████████▋| 21.6M/22.2M [00:08<00:00, 978kB/s] \n",
      "100%|██████████| 22.2M/22.2M [00:08<00:00, 2.76MB/s]\n",
      "Traceback (most recent call last):\n",
      "  File \"C:\\Users\\shrey\\anaconda3\\lib\\site-packages\\ultralytics\\engine\\trainer.py\", line 133, in __init__\n",
      "    self.data = check_det_dataset(self.args.data)\n",
      "  File \"C:\\Users\\shrey\\anaconda3\\lib\\site-packages\\ultralytics\\data\\utils.py\", line 327, in check_det_dataset\n",
      "    raise FileNotFoundError(m)\n",
      "FileNotFoundError: \n",
      "Dataset 'D://condaEnv/datasets/fields-1/data.yaml' images not found ⚠️, missing path 'D:\\condaEnv\\datasets\\fields-1\\val\\images'\n",
      "Note dataset download directory is 'D:\\condaEnv\\datasets'. You can update this in 'C:\\Users\\shrey\\AppData\\Roaming\\Ultralytics\\settings.yaml'\n",
      "\n",
      "The above exception was the direct cause of the following exception:\n",
      "\n",
      "Traceback (most recent call last):\n",
      "  File \"C:\\Users\\shrey\\anaconda3\\lib\\runpy.py\", line 197, in _run_module_as_main\n",
      "    return _run_code(code, main_globals, None,\n",
      "  File \"C:\\Users\\shrey\\anaconda3\\lib\\runpy.py\", line 87, in _run_code\n",
      "    exec(code, run_globals)\n",
      "  File \"C:\\Users\\shrey\\anaconda3\\Scripts\\yolo.exe\\__main__.py\", line 7, in <module>\n",
      "  File \"C:\\Users\\shrey\\anaconda3\\lib\\site-packages\\ultralytics\\cfg\\__init__.py\", line 568, in entrypoint\n",
      "    getattr(model, mode)(**overrides)  # default args from model\n",
      "  File \"C:\\Users\\shrey\\anaconda3\\lib\\site-packages\\ultralytics\\engine\\model.py\", line 372, in train\n",
      "    self.trainer = (trainer or self._smart_load(\"trainer\"))(overrides=args, _callbacks=self.callbacks)\n",
      "  File \"C:\\Users\\shrey\\anaconda3\\lib\\site-packages\\ultralytics\\models\\yolo\\obb\\train.py\", line 29, in __init__\n",
      "    super().__init__(cfg, overrides, _callbacks)\n",
      "  File \"C:\\Users\\shrey\\anaconda3\\lib\\site-packages\\ultralytics\\engine\\trainer.py\", line 137, in __init__\n",
      "    raise RuntimeError(emojis(f\"Dataset '{clean_url(self.args.data)}' error ❌ {e}\")) from e\n",
      "RuntimeError: Dataset 'D://condaEnv/datasets/fields-1/data.yaml' error  \n",
      "Dataset 'D://condaEnv/datasets/fields-1/data.yaml' images not found , missing path 'D:\\condaEnv\\datasets\\fields-1\\val\\images'\n",
      "Note dataset download directory is 'D:\\condaEnv\\datasets'. You can update this in 'C:\\Users\\shrey\\AppData\\Roaming\\Ultralytics\\settings.yaml'\n"
     ]
    }
   ],
   "source": [
    "%cd {t}\n",
    "\n",
    "!yolo task=obb mode=train model=yolov8s-obb.pt data=\"D:/condaEnv/datasets/fields-1/data.yaml\" epochs=100 imgsz=640 batch=8"
   ]
  }
 ],
 "metadata": {
  "kernelspec": {
   "display_name": "yolov8_segmentation",
   "language": "python",
   "name": "python3"
  },
  "language_info": {
   "codemirror_mode": {
    "name": "ipython",
    "version": 3
   },
   "file_extension": ".py",
   "mimetype": "text/x-python",
   "name": "python",
   "nbconvert_exporter": "python",
   "pygments_lexer": "ipython3",
   "version": "3.10.13"
  }
 },
 "nbformat": 4,
 "nbformat_minor": 2
}
